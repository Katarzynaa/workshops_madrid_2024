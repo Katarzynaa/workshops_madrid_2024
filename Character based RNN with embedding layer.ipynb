{
 "cells": [
  {
   "cell_type": "markdown",
   "metadata": {
    "id": "M2TRva8BHbfO"
   },
   "source": [
    "# Text generation with character based RNNs\n",
    "\n",
    "Create and train LSTM neural network that generates new text based on the short input text. Network shoudl generate the text in the same style as training text\n"
   ]
  },
  {
   "cell_type": "markdown",
   "metadata": {
    "id": "1m4-g5LGov-z"
   },
   "source": [
    "# 1. Download, read and prepare text data"
   ]
  },
  {
   "cell_type": "code",
   "execution_count": 1,
   "metadata": {},
   "outputs": [
    {
     "name": "stdout",
     "output_type": "stream",
     "text": [
      "--2024-02-12 14:27:20--  https://wolnelektury.pl/media/book/txt/pan-tadeusz.txt\n",
      "Resolving wolnelektury.pl (wolnelektury.pl)... 51.83.143.148, 2001:41d0:602:3294::\n",
      "Connecting to wolnelektury.pl (wolnelektury.pl)|51.83.143.148|:443... connected.\n",
      "HTTP request sent, awaiting response... 200 OK\n",
      "Length: 493766 (482K) [text/plain]\n",
      "Saving to: ‘pan-tadeusz.txt’\n",
      "\n",
      "pan-tadeusz.txt     100%[===================>] 482,19K   244KB/s    in 2,0s    \n",
      "\n",
      "2024-02-12 14:27:23 (244 KB/s) - ‘pan-tadeusz.txt’ saved [493766/493766]\n",
      "\n"
     ]
    }
   ],
   "source": [
    "!wget https://wolnelektury.pl/media/book/txt/pan-tadeusz.txt"
   ]
  },
  {
   "cell_type": "code",
   "execution_count": 3,
   "metadata": {
    "colab": {
     "base_uri": "https://localhost:8080/"
    },
    "id": "bBwK6EogHbfP",
    "outputId": "caed2c9d-9b7f-40c4-97ed-e76e72a6af59"
   },
   "outputs": [
    {
     "name": "stdout",
     "output_type": "stream",
     "text": [
      "Text length:  447342\n"
     ]
    }
   ],
   "source": [
    "\n",
    "import random\n",
    "import re\n",
    "import torch\n",
    "import torch.nn as nn\n",
    "\n",
    "\n",
    "#reading\n",
    "with open('pan-tadeusz.txt', 'r') as f:\n",
    "    file=f.read()\n",
    "file_len = len(file)\n",
    "\n",
    "print('Text length: ', file_len)\n",
    "\n"
   ]
  },
  {
   "cell_type": "markdown",
   "metadata": {},
   "source": [
    "## Create a set of all charaters  and save number of charaters for later use"
   ]
  },
  {
   "cell_type": "code",
   "execution_count": 4,
   "metadata": {},
   "outputs": [
    {
     "name": "stdout",
     "output_type": "stream",
     "text": [
      "hLo…jdwiTeśnA!1-(EWtNDFkęaŹCB*ł\n",
      "»5RxcŻź2r,ńz:—é4OPóJylUmć«)Z àqżŁgĆ;Óu3?S7ŚI/spVæKMf0vGH6b.98ą\n",
      "94\n"
     ]
    }
   ],
   "source": [
    "all_characters =''.join(set(file)) \n",
    "n_characters = len(all_characters)\n",
    "print(all_characters)\n",
    "print(n_characters)"
   ]
  },
  {
   "cell_type": "markdown",
   "metadata": {
    "id": "0L8KBRWyHbfU"
   },
   "source": [
    "## Write function that returns the random text chunk of a given length \"chunk_len\""
   ]
  },
  {
   "cell_type": "code",
   "execution_count": 5,
   "metadata": {
    "colab": {
     "base_uri": "https://localhost:8080/"
    },
    "id": "FUwtlAsAHbfU",
    "outputId": "9ed09154-736d-479f-895f-185e21925dae"
   },
   "outputs": [
    {
     "name": "stdout",
     "output_type": "stream",
     "text": [
      "dzisiejszym trafie,\n",
      "Wspomnijcie też starego Wojskiego przestrogę:\n",
      "Nigdy jeden drugiemu nie zachodzić w drogę,\n",
      "Nigdy we dwóch nie strzelać do jednej źwierzyny».\n",
      "\n",
      "    Właśnie Wojski wymawiał to słowo: *ź\n"
     ]
    }
   ],
   "source": [
    "chunk_len = 200\n",
    "\n",
    "def random_chunk():\n",
    "    \n",
    "    start_index = random.randint(0, file_len - chunk_len)\n",
    "    end_index = start_index + chunk_len + 1\n",
    "    return file[start_index:end_index]\n",
    "\n",
    "rand=random_chunk()\n",
    "\n",
    "print(rand)\n"
   ]
  },
  {
   "cell_type": "markdown",
   "metadata": {
    "id": "juGZk6dxHbfX"
   },
   "source": [
    "## Write function that returns the indices of characters from a given string in \"all_characters\""
   ]
  },
  {
   "cell_type": "code",
   "execution_count": 203,
   "metadata": {
    "colab": {
     "base_uri": "https://localhost:8080/"
    },
    "id": "STesZpdhHbfY",
    "outputId": "81eb98c9-3ac3-4266-df4d-ec560df9fc00"
   },
   "outputs": [
    {
     "name": "stdout",
     "output_type": "stream",
     "text": [
      "tensor([51, 14, 63])\n"
     ]
    }
   ],
   "source": [
    "\n",
    "def char_to_idx(string):\n",
    "    tensor = torch.zeros(len(string)).long()#type long, we don't want float\n",
    "    for c in range(len(string)): #c is index of current character in string\n",
    "          tensor[c] = all_characters.index(string[c]) # find index of current character in all_characters\n",
    "    return tensor\n",
    "\n",
    "print(char_to_idx('abc'))\n",
    "\n",
    "\n"
   ]
  },
  {
   "cell_type": "code",
   "execution_count": 204,
   "metadata": {},
   "outputs": [
    {
     "data": {
      "text/plain": [
       "tensor([16, 25, 88,  1,  6, 64, 48, 44,  1, 19, 64, 75, 64, 26, 88,  1, 14,  8,\n",
       "        75, 51, 34, 38,  1, 48, 64, 78, 64, 34, 51, 61, 84, 80, 51, 20,  1, 16,\n",
       "         6,  1, 14, 38,  5, 32, 25, 38,  1,  5,  6, 51,  6, 64,  9, 26, 42, 78,\n",
       "        23,  1,  5, 19, 64,  6, 42, 75, 51, 26, 38,  1,  6,  1, 32, 25, 51,  6,\n",
       "        38, 84, 22,  1,  9, 42, 27, 63, 42, 88, 20,  1, 19, 64, 48, 88,  5, 34,\n",
       "        51, 26, 38, 23,  1, 14, 88, 71,  1, 25,  8, 63, 76,  8, 23,  1, 14, 88,\n",
       "        71,  1,  6, 25, 71, 51,  6, 38, 23, 84, 81, 42, 88,  6, 42, 48, 71, 42,\n",
       "        51,  9, 26, 38,  1, 42,  1,  9, 88, 48,  6, 42, 88,  1, 48, 64,  5, 34,\n",
       "        38,  5, 71, 51, 26, 38,  1,  5, 71, 88, 19, 63, 88, 23, 84, 74, 51, 78,\n",
       "        64,  1, 48, 71, 42, 88, 63, 42, 79,  1, 78, 25, 71, 38, 78,  9, 42,  6,\n",
       "        88,  1, 71, 34, 64, 24, 64, 26, 88,  1,  6,  1, 78, 64,  9, 88, 14, 63,\n",
       "        88, 23, 84])"
      ]
     },
     "execution_count": 204,
     "metadata": {},
     "output_type": "execute_result"
    }
   ],
   "source": [
    "char_to_idx(rand)"
   ]
  },
  {
   "cell_type": "markdown",
   "metadata": {
    "id": "lambMdPZHbfe"
   },
   "source": [
    "## Create function that returns training sample using a random chuck of text. The input is all characters of chunk without the last one, the target is all characters without the first one"
   ]
  },
  {
   "cell_type": "code",
   "execution_count": 207,
   "metadata": {
    "id": "vZttCgX8Hbfe"
   },
   "outputs": [],
   "source": [
    "def random_training_set():\n",
    "    chunk = random_chunk()\n",
    "    inp = char_to_idx(chunk[:-1])\n",
    "    target = char_to_idx(chunk[1:])\n",
    "    return inp, target"
   ]
  },
  {
   "cell_type": "markdown",
   "metadata": {},
   "source": [
    "# 2. Create class for  model of neural network\n",
    " Every model class in pyTorch inherits from nn.Module.\n",
    "\n",
    " The model usually consist of two methods: __init__ and __forward__. In our model we need also __init_hidden__\n",
    "\n",
    " - __init__ - declared within a class, is used to initialize the attributes of an object as soon as the object is formed. In our case we initialize\n",
    "     - attributes :  input_size, embed_size, hidden_size, output_size, n_layers\n",
    "     - layers/modules:\n",
    "         - nn.Embedding - A simple lookup table that stores embeddings. Embeddings are retrieved using indices. The input to the module is a list of indices, and the output is the corresponding word embeddings. Parameters: input size, embed_size https://pytorch.org/docs/stable/generated/torch.nn.Embedding.html#torch.nn.Embedding\n",
    "         - nn.LSTM - Apply a multi-layer long short-term memory (LSTM) RNN to an input sequence. Parameters: embed_size, hidden_size, n_layers https://pytorch.org/docs/stable/generated/torch.nn.LSTM.html#lstm\n",
    "         - nn.Linear - Dense Layer. Parameters hidden_size, output_size https://pytorch.org/docs/stable/generated/torch.nn.Linear.html#linear\n",
    "      \n",
    "- __forward__ - calculates all the operations inside neural net. Arguments for RNN input, hidden state from previous step.\n",
    "    - first convert input indices to embeddings\n",
    "    - pass embedding and hidden state(together with cell state (h_t-1, c_t-1)) to LSTM that returns the output and hidden state together with cell state (h_t, c_t)\n",
    "    - -pass the output throu linear layer\n",
    "    - return output of linear layer and hidden state ((h_t, c_t))\n",
    " \n",
    "- __init_hidden__ - return the initial value of hidden and cell state h_0, c_0 - in our case zero vectors\n"
   ]
  },
  {
   "cell_type": "code",
   "execution_count": 206,
   "metadata": {
    "id": "IdNxnh-kHbfc"
   },
   "outputs": [],
   "source": [
    "\n",
    "\n",
    "class RNN(nn.Module):\n",
    "    def __init__(self, input_size, embed_size, hidden_size, output_size, n_layers=1):\n",
    "        super(RNN, self).__init__()\n",
    "        #Your code\n",
    "        self.input_size = input_size\n",
    "        self.embed_size = embed_size\n",
    "        self.hidden_size = hidden_size\n",
    "        self.output_size = output_size\n",
    "        self.n_layers = n_layers\n",
    "\n",
    "        #######YOUR CODE########\n",
    "        self.embed = nn.Embedding( \n",
    "        self.lstm = \n",
    "        self.linear =\n",
    "        #########################\n",
    "\n",
    "    def forward(self, inp, hidden):\n",
    "    \n",
    "        inp=inp.view(1, -1) #as our input is a single index we have to convert it to tensor with proper shape\n",
    "\n",
    "        #######YOUR CODE########\n",
    "        e =  # <-get EMBEDDING for input\n",
    "    \n",
    "        output, hidden =   # <-get LSTM outputs\n",
    "        #############################\n",
    "        \n",
    "        output = self.linear(output.squeeze(0))# reduce the dimension of the lstm output and pass through linear layer\n",
    "        return output, hidden\n",
    "\n",
    "    def init_hidden(self):\n",
    "        return (torch.zeros(self.n_layers, 1, self.hidden_size),\n",
    "                torch.zeros(self.n_layers, 1, self.hidden_size)"
   ]
  },
  {
   "cell_type": "markdown",
   "metadata": {},
   "source": [
    "## Create model instance, optimizer and loss function"
   ]
  },
  {
   "cell_type": "code",
   "execution_count": null,
   "metadata": {},
   "outputs": [],
   "source": [
    "embed_size=100\n",
    "hidden_size = 100\n",
    "n_layers = 1\n",
    "lr = 0.005\n",
    "##\n",
    "\n",
    "\n",
    "########### YOUR CODE#######\n",
    "rnn = #your code - input_size and  output_size is the same -number of characters\n",
    "############################\n",
    "rnn_optimizer = torch.optim.SGD(rnn.parameters(), lr=lr, momentum=0.6)\n",
    "criterion = nn.CrossEntropyLoss()"
   ]
  },
  {
   "cell_type": "markdown",
   "metadata": {
    "id": "wvROs5Y6Hbfg"
   },
   "source": [
    "## Write function that return a sample of generated texts. This function is used during training to control the generated output"
   ]
  },
  {
   "cell_type": "code",
   "execution_count": 208,
   "metadata": {
    "id": "AIgyaifyHbfh"
   },
   "outputs": [],
   "source": [
    "import random\n",
    "\n",
    "\n",
    "def sample(start_str='A', predict_len=100):\n",
    "    #initialize the hidden state of network\n",
    "    hidden = rnn.init_hidden()\n",
    "    start_input = char_to_idx(start_str) #change input to indices\n",
    "    predicted = start_str# set beggining of predicted sequence\n",
    "\n",
    "    #run network on every character from start_str to learn the input sequence\n",
    "    for p in range(len(start_str) - 1):\n",
    "        _, hidden = rnn(start_input[p], hidden) #your code\n",
    "\n",
    "    #last character is now the input\n",
    "    inp = start_input[-1]\n",
    "\n",
    "    #generate new characters\n",
    "    for p in range(predict_len):\n",
    "        \n",
    "        ########## YOUR CODE ############\n",
    "        output, hidden =  #your code - run network with the current input and\n",
    "        #################################\n",
    "        \n",
    "        top_v, top_i = output.data.view(-1).topk(3)# choose top k characters with best score\n",
    "        top_i = random.choice(top_i)#top_i[0]\n",
    "        \n",
    "\n",
    "\n",
    "        predicted_char = all_characters[top_i] \n",
    "        predicted += predicted_char \n",
    "        inp = char_to_idx(predicted_char) #set inp as new predicted char\n",
    "        \n",
    "\n",
    "\n",
    "    return predicted"
   ]
  },
  {
   "cell_type": "code",
   "execution_count": 209,
   "metadata": {
    "id": "VKB4sANgHbfj"
   },
   "outputs": [],
   "source": [
    "import time, math\n",
    "\n",
    "def time_since(since):\n",
    "    s = time.time() - since\n",
    "    m = math.floor(s / 60)\n",
    "    s -= m * 60\n",
    "    return '%dm %ds' % (m, s)"
   ]
  },
  {
   "cell_type": "markdown",
   "metadata": {
    "id": "52_gHIhoHbfl"
   },
   "source": [
    "# 3. Train the network"
   ]
  },
  {
   "cell_type": "code",
   "execution_count": 212,
   "metadata": {
    "id": "BiJkevjwHbfm"
   },
   "outputs": [],
   "source": [
    "def train(inp, target):\n",
    "    hidden = rnn.init_hidden() #initialize the hidden state of network before every training sample\n",
    "    rnn_optimizer.zero_grad() 3 zero gradientsin network\n",
    "    loss = 0\n",
    "    for c in range(0,chunk_len-1):\n",
    "\n",
    "        output, hidden = rnn(inp[c], hidden) #make prediction\n",
    "        loss += criterion(output, target[c].view(1)) # calculate loss\n",
    " \n",
    "    loss.backward() # calculate gradient\n",
    "    rnn_optimizer.step()# update parameters of network\n",
    "\n",
    "    return loss.data/ chunk_len"
   ]
  },
  {
   "cell_type": "code",
   "execution_count": 213,
   "metadata": {
    "colab": {
     "base_uri": "https://localhost:8080/"
    },
    "id": "2Ta1XJOlHbfn",
    "outputId": "b43fed5d-9bc5-4e70-c141-dcec93e4771f",
    "scrolled": true
   },
   "outputs": [
    {
     "name": "stdout",
     "output_type": "stream",
     "text": [
      "0m 4s (100 1%) 2.4166\n",
      "Gdy,,,,,\n",
      "\n",
      "  w więci w się, padłysiem w wiesię z porał porzyki,, w w storode sieszysto trowałoniem\n",
      "Wowię,,\n",
      "\n",
      " w  sałany, taranie szew wiestroz prawało wiemi z wałow powię trowystała, ta prozeskie,,,\n",
      "\n",
      "\n",
      "\n",
      "W   \n",
      "\n",
      "0m 8s (200 3%) 2.4330\n",
      "Gdy,\n",
      "Zaby postradeje prozci przadyszy,,, stak sie pladała,,, padziej stara, przyce prosieje drazycze prodział sto do postał strowych padaje dzoszelko,,,,\n",
      "Zodzy dobiem, drozczej prodzy, dzosie szał paszcy \n",
      "\n",
      "0m 12s (300 5%) 2.4059\n",
      "Gdym,, stowy, ciałama, skię przestałami,,\n",
      "Pode siaki się szcia para się szarska,,, wskała zad strzyszym wied sied wideny w zastał,\n",
      "A parada z stałam zad stara z skię w zak szakie, cok storzemi szko wymo  \n",
      "\n",
      "0m 17s (400 6%) 2.2519\n",
      "Gdy, się skalanie..\n",
      "\n",
      "\n",
      "W skrowia nie zwyczał, w siętem, palkan noskowa nował,\n",
      "Poskiania siedziecznem.      no dzarawa nowie skowa zniadzanie skran no z dowa się,, ciał skrzek na domni sied sięta na nie zw \n",
      "\n",
      "0m 21s (500 8%) 2.4187\n",
      "Gdy wiasza,, wytak zwase wiaszała\n",
      "Ini zaba sprzedz zamała, prada z wychcią stara wystrzasza się,,,\n",
      "Ko więdzał zwię zwych powiądzał wytrazy,\n",
      "Jokieje wytraz praz padała zwysz paniemiem w pad wię po stał wi \n",
      "\n",
      "0m 26s (600 10%) 2.1648\n",
      "Gdy domu,\n",
      "Już stary,\n",
      "Jestwi podziedło sieszcem, kaszelaczał,\n",
      "Jużem,, krzyki prosie siąc szerczeka,, chochać straku,,\n",
      "Aża prodkole sto pan kani w sierci szerci szalaci,, chociała posienie,, koraku panasze \n",
      "\n",
      "0m 30s (700 11%) 2.1785\n",
      "Gdy za parał wilieczy zwypadzące słaskać, w po wyszaci po raz szak zwiać. Przakać słasa, nowy w proszać,,, żeby,\n",
      "Nicereja wypartał wyz robie,\n",
      "Napiały zwyszyła z rozkiał w szak zwiał,\n",
      "I siera wilech, naki \n",
      "\n",
      "0m 34s (800 13%) 2.4201\n",
      "Gdym szamiaty\n",
      "Iża w pran z z z palacie wienca,,,,\n",
      "Alu parskunanie, znicanym się,,, wiedzienie\n",
      "I przeznosta,\n",
      "W stę pan siestwie,,, po pram szludał,\n",
      "W z pował siedny,,\n",
      "A z powanie w stęty,,,\n",
      "Alużen iedniej \n",
      "\n",
      "0m 39s (900 15%) 2.0738\n",
      "Gdy,\n",
      "Po poterwy.\n",
      "Po siał noga dzastwia sielka panto po to padanku stałaz nie dzwał no po przewi prokim,\n",
      "Potarym prazyci potraczy,\n",
      "I skuta,,\n",
      "Przadła skaraze,\n",
      "I skrzyszy prad podzoska,, przyskuch nik siał, \n",
      "\n",
      "0m 43s (1000 16%) 2.3795\n",
      "Gdy powię przyszedł prowegość, nachaty.\n",
      "Taka,\n",
      "Zas nie skupa narz no szechaty prawszysk szecie prozku,,\n",
      "Jenia,\n",
      "A każem,\n",
      "Alaty,\n",
      "Alat nasta, to siąt przekazy. «Nichej szczelata\n",
      "Pastwowa szledł siąt patan pa \n",
      "\n",
      "0m 47s (1100 18%) 2.2585\n",
      "Gdyczy zamane sięci stadnę,\n",
      "Z wielkona pale zwyka wiała siadała wsię sto podna słycica stada słykała,,,».  tobnacko,\n",
      "Króżd zamiecka,, jużnej przywanem, ja palcaca,\n",
      "A toba słowała,,, toba stonia sto tyczy \n",
      "\n",
      "0m 52s (1200 20%) 2.2040\n",
      "Gdy,, żarzej parczy w prosto o waszy, wisię siadają,\n",
      "Ida wiejstwa, charzy,\n",
      "Wsiedy wiejąc, ży ochowy,\n",
      "Alostwa podrobiał sierz nich się,\n",
      "A nad przy wiadzy,,,\n",
      "Aleby powają panicem, wyczas obarzym,,\n",
      "Aże,\n",
      "A p \n",
      "\n",
      "0m 56s (1300 21%) 2.1924\n",
      "Gdymi, wod wadeje, wada nase wyszerony,,,,,,,\n",
      "A w niczywała\n",
      "I waraz nas w powiano,,\n",
      "Todne was wię nie wa powianejsi sara sięczem,,\n",
      "A nieci wosieje, w na saregła w nod dwoja,\n",
      "Teniego w dale wojemi wojneje \n",
      "\n",
      "1m 3s (1400 23%) 2.5599\n",
      "Gdym,\n",
      "Nozwarki,,\n",
      "W z krwody,,\n",
      "Na ciedzi zami na siercem z krwielicznie,, z warzem,, cał krwał końcekajemi\n",
      "W szacia wysię kocienki ni kazamek nic zwiatrze widę sią wiedźny,,,,,,\n",
      "Wię z wojest ni kononowym, \n",
      "\n",
      "1m 8s (1500 25%) 2.0187\n",
      "Gdyby wyjce się no wias ni pradł wszysła,,, proszczyła wydziać stoli,\n",
      "Przyprawiłe,\n",
      "Idziać, nosta, czyczyny,, czyscy w słusia, pałośnie,, chać;\n",
      "Potem ni wysła w strawy siał wydomeni wschylił szczychowycie \n",
      "\n",
      "1m 12s (1600 26%) 2.0680\n",
      "Gdyma,\n",
      "Widzą,\n",
      "Widzy pracią do partym szchy prodzinie pod szakoła,\n",
      "Więdać się drzwowi drzew siady szcycała\n",
      "Po siędać, prosia panicha siedz sier prowaciem, krząpinąć\n",
      "Ile, prowie domek, cokam szchać,\n",
      "Więc s \n",
      "\n",
      "1m 16s (1700 28%) 2.1202\n",
      "Gdy,\n",
      "W wideraca z kotał w promiem warzała,\n",
      "W was w ciczała siano w wiasa wszelił naszemi zasaję się,\n",
      "A z pana spojrany,,,,\n",
      "Parasi znowia stał spodnac spodkim\n",
      "Spadłamiem w chcala, podno, progę walał, pasa \n",
      "\n",
      "1m 21s (1800 30%) 1.9360\n",
      "Gdy, wspadło piosło wypiesłym pieszły,\n",
      "In do pięczyne nogardom zasłomniejszejsze piedzanił.\n",
      "W tyli,\n",
      "Jużemnejszy,\n",
      "Już ni siągnęł za trzechania z pierzyny, wista sią storaz powedarzy stara się piestraczy p \n",
      "\n",
      "1m 25s (1900 31%) 1.8241\n",
      "Gdy szchopny\n",
      "Wytrze spodki,,\n",
      "Ilatrzył,\n",
      "I co probnie się słumieni pawiennie szukać nic tarabiał się;\n",
      "Tomnymie,,, częstkowi, żej,\n",
      "I co szabać no patka probał no tokiem\n",
      "I trugadził,\n",
      "W prawawi siedy patać si \n",
      "\n",
      "1m 29s (2000 33%) 2.1079\n",
      "Gdy,\n",
      "Ile stał przeciednym\n",
      "W krawy,\n",
      "Stąpiłane, że mi zwiętek,\n",
      "Aż poluszki z pałowiać!».»\n",
      "«Protem szak się,,\n",
      "Jestencie za się wyproszacie szczasną, ktem, choru\n",
      "Idy z musać, któli, wielkowany z korecka z mi \n",
      "\n",
      "1m 33s (2100 35%) 2.3066\n",
      "Gdy,\n",
      "Jeśny w praszył strzy skrychy strzela pod szedły,,\n",
      "Aleo sztychać sztraczą,,\n",
      "Za po skolichy.»\n",
      " W tymiem za dobił widźch dziwstwo prócić,\n",
      "A skryca zebie,\n",
      "Z nosie, jeściem,,, jak rębają z skako, pan w  \n",
      "\n",
      "1m 38s (2200 36%) 2.0705\n",
      "Gdy zabia widza wiaszko sztut niewa sierbym zaposiena stany,\n",
      "Tocem.» «Paniały\n",
      "Powianicy storzeny,\n",
      "Tamisko z krzecielszym w karbym wiaszciła,,,\n",
      "Ty zwiatał szlub,, co zaposto wyrócznymi w krobny zabawać zn \n",
      "\n",
      "1m 42s (2300 38%) 1.9388\n",
      "Gdym,\n",
      "Na tymczynymi,,\n",
      "Alsta wiedźcych pał zwymierz prawiał, szcy posłomnej,\n",
      "Wspadła, pał stał przyjachonowy,, zaszano zielkie zwykromię,\n",
      "Wielkiejstra szabianowy,,\n",
      "Napełni siążą zajonymi prawił z obcyznaj \n",
      "\n",
      "1m 48s (2400 40%) 1.9960\n",
      "Gdymi, w patanku i w króchcia wielskam,,\n",
      "Zapolstania,,,,\n",
      "Podnowować. Jaki wyczyna stołu wiele nadzałem, widzałego wykróchać, żebojscuj pradzek, wyczył wyrzyby,, żako,\n",
      "Powardzo się,\n",
      "Proszedł.\n",
      "\n",
      "Tak wierze  \n",
      "\n",
      "1m 53s (2500 41%) 1.9851\n",
      "Gdy,,,\n",
      "Iżywian zająwszy,, trzągie,,,\n",
      "Iż się pannie złośny,, trylkowia ichodniej za stałego\n",
      "Wspóry i pannej,, żajm w sztuczny,\n",
      "Poten znosi znają w porząstawanic stronic się z kononicy, jakbem,,,\n",
      "Iżel imał \n",
      "\n",
      "2m 0s (2600 43%) 2.2859\n",
      "Gdyba wszyscek siał prowi strodził przodaci,,\n",
      "W te wyprzedła w stał przebianaczaje, kot prowoność,\n",
      "Powstrowie,,, jedeso po siedłyczki wyrazy w tercał powiechać,,,\n",
      "A powstroczyny patały,\n",
      "W kapele paszcał  \n",
      "\n",
      "2m 4s (2700 45%) 2.0121\n",
      "Gdy wszed z wiecznym zapanowskim zwiadłem.,, w tymusi,\n",
      "A w koność. Tomyśchl z wisku w za tocie wszeszce,\n",
      "Albymiestwo słopici,\n",
      "Jak wyrzecze słowy za kronie sierzeń się wieśc nadzwar zapowarzył szepiecznie \n",
      "\n",
      "2m 8s (2800 46%) 2.0468\n",
      "Gdy nad wierniku widzał,, prowada na prada wypleczek wyprzyjadzie starone,,,,\n",
      "Więc no wyszecie, przowiny\n",
      "W przechwieczeniał. Ten po pioser piosłane,,,\n",
      "Ale pioność,\n",
      "Chody;\n",
      "Wszester wyróczką,\n",
      "Więczenym wyr \n",
      "\n",
      "2m 13s (2900 48%) 1.9357\n",
      "Gdy wychoć w kolewanowy, nim widny, na w komety;\n",
      "Nogające słają wypatnęłu w noszcięta na w kolskowił siankę zwycielstwa\n",
      "Wyczyni zwych zwraciega,\n",
      "Naprzedzwalanym,,\n",
      "Wilczny słowa, nosi,, nowa skok wycię wi \n",
      "\n",
      "2m 17s (3000 50%) 1.9820\n",
      "Gdy,\n",
      "Już stołu prodowie\n",
      "Prozięku\n",
      "Więkną,\n",
      "Po chodowie,\n",
      "Icielisz drogie, znie strach powieczowycznym się,,,,,,\n",
      "I praczą wypada stał szlachty, chciało\n",
      "Strawie pałuszy,,\n",
      "Pod nic niej się z końcu.\n",
      "Jesat znika \n",
      "\n",
      "2m 21s (3100 51%) 1.8685\n",
      "Gdybiać.,,\n",
      "Wię w palce innikół wiat w krazy,,\n",
      "Ażywstwo wieliła widność wychoć,\n",
      "Co sierwszej siedła., powszak pasty siał widną pradać. — — rzusnę,\n",
      "Więcem wyracił: «Braciać wypalek,\n",
      "Cic na wypięc stody,\n",
      "Wi \n",
      "\n",
      "2m 26s (3200 53%) 2.1119\n",
      "Gdy znowiek posłają strzaszczenie zającze strojem skropie, żon podwodobna prawany\n",
      "Wszasz tarazy czekał za trudki stary z tejżela,\n",
      "Nobają szarowem zajedzy, charza, chartem\n",
      "Idą za charzał, taresz,,,\n",
      "W ten, \n",
      "\n",
      "2m 30s (3300 55%) 1.7541\n",
      "Gdy stała stałte wszedzie,\n",
      "Nigdaj w prote pasze się, patanku. —\n",
      "Tako,, chował stras przówniej powodza szed pomiarka, te wyszani pod wat po tawały stołacka,\n",
      "Aleby, po co patry,\n",
      "Nigdy,\n",
      "Idza stole wyraszał. \n",
      "\n",
      "2m 34s (3400 56%) 1.9965\n",
      "Gdynek,\n",
      "Idź musiała,,\n",
      "Na więdę,\n",
      "Nim,\n",
      "Id zamkich,,\n",
      "Nowa wywodzą nim, jut więdzą nimieny,,\n",
      "Aż sierzemie okropana sprobnych.\n",
      "\n",
      "\n",
      " «Paraj przeczynica. Na prowiata,» —,, jusz się;, wyczywszym sierce stanąc,\n",
      "I s \n",
      "\n",
      "2m 38s (3500 58%) 2.0916\n",
      "Gdym, dalarach przyszli,\n",
      "Albo,, jednegór drudegi,\n",
      "Tadusa stałtym z miedź,\n",
      "Probat dzaczerst stody,\n",
      "Prostate zajazi protam dzawniot wstaty z doszyła paniani z dalejko,, dobywie.\n",
      "Pan proty siegi,,\n",
      "Chocą. «M \n",
      "\n",
      "2m 43s (3600 60%) 1.8369\n",
      "Gdy nadena nogrodza.».\n",
      "«Tam naraz w konarszega, karazy na stolą nie wyczyzłaciejsku, krawi na wyrojnie, naresta się, w nim kontego\n",
      "I kareku\n",
      "No kropiel w każ wypatki,,, kalbora\n",
      "Widzą,,,,,, krania na swoic \n",
      "\n",
      "2m 47s (3700 61%) 2.0645\n",
      "Gdy wszydała;, chodę szczęścia,,\n",
      "Ale wstąpeta. Palby, wstojnych posię podarza sztawniko,\n",
      "A to wstądzące podna słowarka.»\n",
      "«Polewał,,\n",
      "Ileborał,,\n",
      "Ilątał słoniłeg siebronie, pał szlata probnianio w sią pracz \n",
      "\n",
      "2m 51s (3800 63%) 2.0489\n",
      "Gdy zaszanki,,\n",
      "Aże ni znoju,,\n",
      "Probiela,\n",
      "A tabelkie znojej z nowu,,\n",
      "Pania, wypracy szykolorała, kropił,,, że no wysłyna siebił,\n",
      "Idała,,,\n",
      "Alej w nocy szybę z na wybytwał siedzie w prosiejał z miarstwiem z  \n",
      "\n",
      "2m 56s (3900 65%) 2.0614\n",
      "Gdym praci przyjaczynych. Probawić,,\n",
      "W tencentur niecistanka\n",
      "Zwiatera wino prawie, praty powróch powadnych niecha prowiczy,,, żak pisterzyni w tory,\n",
      "A tocem po wieli,\n",
      "I powrany w tyli,, że masami powrót  \n",
      "\n",
      "3m 0s (4000 66%) 1.7975\n",
      "Gdy z moża,\n",
      "Któż, wyczęta,\n",
      "Abe to tery wysłana. Teni za tym pannios, ciętał wyciągnęle.\n",
      "Przezywola. Tomenty poliwał,\n",
      "A pan za podarachty, ktrawy zapotułkę,,\n",
      "A pardo partenkieli pan przymawsty,\n",
      "Ciszkieli, \n",
      "\n",
      "3m 4s (4100 68%) 1.9131\n",
      "Gdyśm prawym z nim,\n",
      "Chocian po szpatka wypadka pałach,,,\n",
      "Czas nowaz zagłana, jedwał widać,\n",
      "A nogała innym wiech w nas nim promują,\n",
      "Coropi za na na nagrytu z woreskam znana,\n",
      "Czekorzy pannie,,,\n",
      "Związce wid \n",
      "\n",
      "3m 8s (4200 70%) 1.8424\n",
      "Gdyś, judże, jeśli,,, wystołu. Wtydum przysławny stołu,\n",
      "Ty wspannich,\n",
      "No wieś wydzwiła wystrzył siała.,\n",
      "Na podowano pod powrania, wyczyzano,\n",
      "Ilą strzeczenoś podniesz wiele,,\n",
      "I pod probia wyciąż,\n",
      "Naparaci \n",
      "\n",
      "3m 13s (4300 71%) 1.9056\n",
      "Gdy, w rami z ręku strzyma,,\n",
      "Ilebios szenica z prasy,\n",
      "Inie szubleboka, was szlucza szenarsze,\n",
      "Inardzejską; ktorach, przecieży stano, pokoją,, parca inik —\n",
      "Więczeną,,,,\n",
      "Kropnegoś w rozkonika. Stronia stod \n",
      "\n",
      "3m 17s (4400 73%) 2.1216\n",
      "Gdy,,, żeśmiela, jederało nad dalejko,\n",
      "W któłkowe nad nimi nic nocha, żan wybalić\n",
      "Widł strzczelam, życiemi,\n",
      "Koliceko wybromości wiele nas niecha,,\n",
      "A ja strzcie widziać,, żechy,,\n",
      "A jesiają naszej: julność \n",
      "\n",
      "3m 21s (4500 75%) 2.1456\n",
      "Gdymi,\n",
      "Ażył siebrał znie,\n",
      "I wieczenne,\n",
      "W praczą,\n",
      "Progi,\n",
      "Aży,, żada nadzo patkie się w kuryki, wieska,,\n",
      "Ile wstatnął zaporan widzia szciągnieje szlaniał znacha,\n",
      "Wsparta na stoło, nadzo w królew zniany, no \n",
      "\n",
      "3m 30s (4600 76%) 2.3614\n",
      "Gdy nie wyprawy,,\n",
      "W nowe za terną, jej zroka siedy,\n",
      "Wyszakać,,,,,\n",
      "Ilekiczna. «Proszy stryj zamcięskica\n",
      "W stały naspiernał,, jesz zarętna znajowaniu z najmi siebrze znoko siedło\n",
      "I ja wiecze skopiera za no \n",
      "\n",
      "3m 36s (4700 78%) 1.8229\n",
      "Gdy wyrzykł za terany ichny,\n",
      "I ta miedź,,, żeś szczałem wypalicowie z draciągną,\n",
      "Widała, żeby z do szali, którą szludnie, z wiada swegi szczasną siedła,\n",
      "W dawnej się sposieńca związynie zachaty,, w ktola \n",
      "\n",
      "3m 40s (4800 80%) 1.9188\n",
      "Gdy,\n",
      "Obłysko wywa, nowym, ta wielem,\n",
      "Al nos w nieczna w kapewstwegore poraciłem przyjeście zwrówich wyszliceki,\n",
      "Aż wywoja, nos zwrasz w paciej, niec wyparaciem zamicha,,,, wyprzada.\n",
      "Poruszy,,,\n",
      "I wstetko, \n",
      "\n",
      "3m 44s (4900 81%) 1.6681\n",
      "Gdy, pratercy, choć,,\n",
      "Zbatrzyła wagła,, prata szpone po karata z wyprzawa\n",
      "Podej szczęścia po czerwie protem,\n",
      "Aż,,,\n",
      "Konem siania słona\n",
      "Idaj słowa,\n",
      "Nowej się słyni pania zaporzął siadał,\n",
      "Odbłonymi,,\n",
      "A poda \n",
      "\n",
      "3m 49s (5000 83%) 1.9028\n",
      "Gdy,\n",
      "Z nas swycz się, niebie wypodnione wypiwny szakiewkę szchwytu,, naweta za kstorach wypiwnymieni zawskoniem.\n",
      "Noże szlanku szchucił widnioł wypiwać;\n",
      "Zwychajem z konianku,\n",
      "Znowu, z któż szpankę szchura \n",
      "\n",
      "3m 53s (5100 85%) 1.8077\n",
      "Gdy patrzącem\n",
      "Iż wyrótne, w koczercie\n",
      "I stoła wie pan wyszanie,,, panna\n",
      "Podno w strzeże nicera wyszendo siała\n",
      "Niebożej szale,, w drust sieraz,\n",
      "Kielko w dobić w podkoczy widzałem w prochać się zawsteka,\n",
      "A \n",
      "\n",
      "3m 57s (5200 86%) 1.9843\n",
      "Gdybymi szczelek zwykł wychał wydał,, wyciąż w stadła się:\n",
      "Więc,\n",
      "Poczysłej szczy spojrach. Tamcarską.\n",
      "\n",
      "Ksztarnych strzecz zwala,,, żech szladły, wszytkąc z tył się, w szczę walczeniajsze w domem, żakic z \n",
      "\n",
      "4m 1s (5300 88%) 1.8299\n",
      "Gdym nosie,,\n",
      "Każecił,\n",
      "A nasiął,\n",
      "Ileży zaczęśli wznał, żeby,\n",
      "Iż nim pięk niegdowicze,\n",
      "Któż naderazy zdajem.,\n",
      "Każ z koło na wzgory\n",
      "Znowiczyne powrzyny,\n",
      "Każdej zdziacki w najca na wzrząsachał. Ten, czeliwie \n",
      "\n",
      "4m 6s (5400 90%) 1.6960\n",
      "Gdy, któlach wiecisz w kole z komety,\n",
      "Konich,,, a wygromany, wsprata siedź,\n",
      "Ale,,,\n",
      "I znajowny szlu od zwale z wysłowam,,, a wieleczne wysoki,»\n",
      "Z wielcem\n",
      "Nimny wygrał:,\n",
      "Jedne szcharmymi,\n",
      "Iżem swy swym za  \n",
      "\n",
      "4m 10s (5500 91%) 1.9810\n",
      "Gdy o tamci potomny powolica.».\n",
      "Przywali,,\n",
      "Kieski nieje w kończyny zawsza obrany z pierstano widano.\n",
      "W oteje imi,\n",
      "Kto więkiem w pomnica,,\n",
      "Wspano więknia od runy, wie szczutacił szlista\n",
      "I krótym,\n",
      "W takiem \n",
      "\n",
      "4m 14s (5600 93%) 1.7938\n",
      "Gdym,,\n",
      "Więk wszyta nosi nicz działo\n",
      "Wstąpa niczym zników najpracie wstąż strasz pramem,,\n",
      "I prosymi,\n",
      "A wszatkicze nosi, podniół. Pamyczena,\n",
      "Albak dosieni, już nos ksztunkę daj probny naszym konia, progami \n",
      "\n",
      "4m 18s (5700 95%) 1.8469\n",
      "Gdy z czało, z pamienał, zaczyny z powolna pało, wieżyła;\n",
      "Poledny zobić zo przedłowicy\n",
      "I prawiegie z pamiał się, podają paszech słuchać, core służemi,, czy zapomszej,\n",
      "A przerwaz zochomiana,\n",
      "Iżej z głowac \n",
      "\n",
      "4m 23s (5800 96%) 1.8941\n",
      "Gdyba,\n",
      "Panemie okierze,\n",
      "W konek powscesz okazał i wisze obrzyńca. To przeczosła odmiena. Takt w ktorem wybalardziłem panem,, życzena:\n",
      "W każyć: «Więc, chmora. Tele obrzyszał,,, wiem przyjąc wyrabeli, po k \n",
      "\n",
      "4m 27s (5900 98%) 1.8780\n",
      "Gdy,,\n",
      "I przójco zawstonych,\n",
      "Pod przyjął,, z książę powadzaj z nocno,,,,\n",
      "Przózciw po proszędę w tyłe zawitać siwnycznie,\n",
      "Za króla wielmorze,,\n",
      "Ilbykać, powolnicy widać!»,\n",
      "Teliena:,\n",
      "Tak poważyć! Startem w p \n",
      "\n",
      "4m 31s (6000 100%) 1.8798\n",
      "Gdyba,\n",
      "Wierstownie, kto tabaka podzwania protych włynyci pradkami\n",
      "Wierzem,,\n",
      "Idą, pałośną prowa więk z tem włodzieja,,\n",
      "Więc nadzobracia, w kołynku!» «W komoni zwianica\n",
      "Skrwócz, czebiała pałowić. Wilnął,,\n",
      " \n",
      "\n"
     ]
    }
   ],
   "source": [
    "#paramters\n",
    "n_epochs = 6000\n",
    "print_every = 100\n",
    "plot_every = 10\n",
    "\n",
    "\n",
    "start = time.time()\n",
    "all_losses = []\n",
    "loss_avg = 0\n",
    "\n",
    "#train and check result evry \"print_every\" step and save loss evry \"plot_every\" step\n",
    "for epoch in range(1, n_epochs + 1):\n",
    "    x,target=random_training_set()\n",
    "    loss = train(x, target)\n",
    "    loss_avg += loss\n",
    "\n",
    "    if epoch % print_every == 0:\n",
    "        print('%s (%d %d%%) %.4f' % (time_since(start), epoch, epoch / n_epochs * 100, loss))\n",
    "        print(sample('Gdy', 200), '\\n')\n",
    "\n",
    "    if epoch % plot_every == 0:\n",
    "        all_losses.append(loss_avg / plot_every)\n",
    "        loss_avg = 0"
   ]
  },
  {
   "cell_type": "markdown",
   "metadata": {},
   "source": [
    "## plot the resulting loss"
   ]
  },
  {
   "cell_type": "code",
   "execution_count": 214,
   "metadata": {
    "colab": {
     "base_uri": "https://localhost:8080/",
     "height": 283
    },
    "id": "qpJYq040Hbfr",
    "outputId": "4e4a9d6a-8aa5-4fc2-9f22-e3485ccc08eb"
   },
   "outputs": [
    {
     "data": {
      "text/plain": [
       "[<matplotlib.lines.Line2D at 0x7f8d6a1de440>]"
      ]
     },
     "execution_count": 214,
     "metadata": {},
     "output_type": "execute_result"
    },
    {
     "data": {
      "image/png": "[encoded data removed]",
      "text/plain": [
       "<Figure size 640x480 with 1 Axes>"
      ]
     },
     "metadata": {},
     "output_type": "display_data"
    }
   ],
   "source": [
    "%matplotlib inline\n",
    "import matplotlib.pyplot as plt\n",
    "import matplotlib.ticker as ticker\n",
    "\n",
    "plt.figure()\n",
    "plt.plot(all_losses)"
   ]
  },
  {
   "cell_type": "markdown",
   "metadata": {
    "id": "lUM9_zt3Hbfu"
   },
   "source": [
    "helpful tutorials for rnns in pyTorch:\n",
    "\n",
    "https://pytorch.org/tutorials/beginner/nlp/sequence_models_tutorial.html\n",
    "https://pytorch.org/tutorials/intermediate/char_rnn_generation_tutorial.html\n",
    "\n",
    "tutorials code inspired by https://github.com/rasbt/stat453-deep-learning-ss21/blob/main/L19/character-rnn/01_char-rnn_lstm-ver.ipynb.ipynb"
   ]
  }
 ],
 "metadata": {
  "colab": {
   "provenance": [],
   "toc_visible": true
  },
  "kernelspec": {
   "display_name": "Python 3 (ipykernel)",
   "language": "python",
   "name": "python3"
  },
  "language_info": {
   "codemirror_mode": {
    "name": "ipython",
    "version": 3
   },
   "file_extension": ".py",
   "mimetype": "text/x-python",
   "name": "python",
   "nbconvert_exporter": "python",
   "pygments_lexer": "ipython3",
   "version": "3.8.10"
  }
 },
 "nbformat": 4,
 "nbformat_minor": 4
}
